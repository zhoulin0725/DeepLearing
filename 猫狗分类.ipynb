{
 "cells": [
  {
   "cell_type": "markdown",
   "id": "8e4ffc44-81e2-4c1d-8283-8830f5ee95b0",
   "metadata": {},
   "source": [
    "典型的卷积算法-Lenet5的实践—猫狗分类"
   ]
  },
  {
   "cell_type": "markdown",
   "id": "b53032ab-bcc6-42f8-887f-fb58ac7ff2ce",
   "metadata": {
    "tags": []
   },
   "source": [
    "## 库的导入"
   ]
  },
  {
   "cell_type": "code",
   "execution_count": 1,
   "id": "eaadbea1-13fa-4d94-b93b-84dfddab7baa",
   "metadata": {},
   "outputs": [],
   "source": [
    "import os\n",
    "import random\n",
    "import tensorflow as tf\n",
    "from tensorflow.keras.preprocessing.image import ImageDataGenerator\n",
    "from shutil import copyfile#文件的复制库"
   ]
  },
  {
   "cell_type": "markdown",
   "id": "2eac7345-8c5e-45c7-aea0-fa11cb0c572f",
   "metadata": {},
   "source": [
    "## 数据的准备"
   ]
  },
  {
   "cell_type": "markdown",
   "id": "e37d72ee-8efc-40ba-ab0e-6d893971bdd8",
   "metadata": {},
   "source": [
    "https://download.microsoft.com/download/3/E/1/3E1C3F21-ECDB-4869-8368-6DEBA77B919F/kagglecatsanddogs_3367a.zip\n",
    "下载下来的数据存在了F盘，有Cat和Dog两个文件夹。"
   ]
  },
  {
   "cell_type": "code",
   "execution_count": 12,
   "id": "f00bf3f8-9b30-4b32-af0c-6e67576b3f21",
   "metadata": {},
   "outputs": [
    {
     "name": "stdout",
     "output_type": "stream",
     "text": [
      "12501\n",
      "12501\n"
     ]
    }
   ],
   "source": [
    "#输出下载的数据集里面的猫和狗的图片数量\n",
    "print(len(os.listdir('F:google_download/dogs_and_cats/Cat')))\n",
    "print(len(os.listdir('F:google_download/dogs_and_cats/Cat')))"
   ]
  },
  {
   "cell_type": "code",
   "execution_count": 18,
   "id": "14ec3d0f-5de1-4a61-ab52-008b8862c1b7",
   "metadata": {},
   "outputs": [],
   "source": [
    "#我们需要将数据分为训练集和测试集，所以在F盘建立文件夹【dogs-vs-cats】，该文件夹下有:【train】和【test】两个文件夹;\n",
    "#【train】下面有个【dogs】和【cats】文件夹\n",
    "#【test】下面有个【dogs】和【cats】两个文件夹\n",
    "try:\n",
    "    os.mkdir('F:google_download/cats-v-dogs')\n",
    "    os.mkdir('F:google_download/cats-v-dogs/training')\n",
    "    os.mkdir('F:google_download/cats-v-dogs/testing')\n",
    "    os.mkdir('F:google_download/cats-v-dogs/training/dogs')\n",
    "    os.mkdir('F:google_download/cats-v-dogs/training/cats')\n",
    "    os.mkdir('F:google_download/cats-v-dogs/testing/dogs')\n",
    "    os.mkdir('F:google_download/cats-v-dogs/testing/cats')\n",
    "except OSError:\n",
    "    pass"
   ]
  },
  {
   "cell_type": "code",
   "execution_count": 33,
   "id": "af58b51d-2123-4d43-856a-ec2943e06462",
   "metadata": {},
   "outputs": [
    {
     "name": "stdout",
     "output_type": "stream",
     "text": [
      "true\n",
      "true\n",
      "true\n",
      "true\n",
      "666.jpg is zero length, so ignoring.\n",
      "11702.jpg is zero length, so ignoring.\n"
     ]
    }
   ],
   "source": [
    "import os\n",
    "import shutil\n",
    "import random\n",
    "#对数据分割，分割为训练集和测试集,本文训练集占90%\n",
    "def split_data(SOURCE, TRAINING, TESTING, SPLIT_SIZE):\n",
    "    #source是\n",
    "    files = []#装的是所有有效照片的文件地址\n",
    "    #for循环用来读取图片的文件名\n",
    "    for filename in os.listdir(SOURCE):\n",
    "        #filename是图片的名字（eg:'0.jpg'）\n",
    "        file = SOURCE + filename\n",
    "        #file是【\"F:google_download/dogs_and_cats/Cat/0.jpg\"】或者【\"F:google_download/dogs_and_cats/Dog/0.jpg\"】\n",
    "        if os.path.getsize(file) > 0:\n",
    "            #判断这个图片的尺寸是否为1，是的话就就把!!!【0.jpg】!!!放入files列表\n",
    "            files.append(filename)\n",
    "        else:\n",
    "            print(filename + \" is zero length, so ignoring.\")\n",
    "            #0长度的图片，需要忽略掉\n",
    "\n",
    "    training_length = int(len(files) * SPLIT_SIZE)\n",
    "    testing_length = int(len(files) - training_length)\n",
    "    shuffled_set = random.sample(files, len(files))#随机打乱files数组，然后前90%是训练集，后10%是测试集\n",
    "    #random.sample()方法返回一个列表，其中包含从序列中随机选择的指定数量的项目\n",
    "    training_set = shuffled_set[0:training_length]\n",
    "    testing_set = shuffled_set[-testing_length:]\n",
    "\n",
    "    for filename in training_set:#对训练集数据分配到猫和狗【training_set是图片的地址】\n",
    "        this_file = SOURCE + filename#this_file是【\"F:google_download/dogs_and_cats/Cat/0.jpg\"】\n",
    "        destination = TRAINING + filename\n",
    "        # destination是把this_file的图片复制到哪个位置\n",
    "        copyfile(this_file, destination)#文件复制函数\n",
    "\n",
    "    for filename in testing_set:#对测试集数据分配到猫和狗\n",
    "        this_file = SOURCE + filename\n",
    "        destination = TESTING + filename\n",
    "        copyfile(this_file, destination)\n",
    "\n",
    "\n",
    "CAT_SOURCE_DIR = \"F:google_download/dogs_and_cats/Cat/\"#最后一个'/'不要的话就进不去Cat下面，要了的话才进得去\n",
    "TRAINING_CATS_DIR = \"F:google_download/cats-v-dogs/training/cats/\"\n",
    "TESTING_CATS_DIR = \"F:google_download/cats-v-dogs/testing/cats/\"\n",
    "DOG_SOURCE_DIR = \"F:google_download/dogs_and_cats/Dog/\"\n",
    "TRAINING_DOGS_DIR = \"F:google_download/cats-v-dogs/training/dogs/\"\n",
    "TESTING_DOGS_DIR = \"F:google_download/cats-v-dogs/testing/dogs/\"\n",
    "\n",
    "\n",
    "#检查训练集和测试集共计四个子文件夹是否创建成功\n",
    "def create_dir(file_dir):\n",
    "    if os.path.exists(file_dir):\n",
    "        print('true')\n",
    "        #os.rmdir(file_dir)\n",
    "        shutil.rmtree(file_dir)#删除再建立\n",
    "        os.makedirs(file_dir)\n",
    "    else:\n",
    "        os.makedirs(file_dir)\n",
    "\n",
    "create_dir(TRAINING_CATS_DIR)\n",
    "create_dir(TESTING_CATS_DIR)\n",
    "create_dir(TRAINING_DOGS_DIR)\n",
    "create_dir(TESTING_CATS_DIR)\n",
    "    \n",
    "split_size = .9\n",
    "split_data(CAT_SOURCE_DIR, TRAINING_CATS_DIR, TESTING_CATS_DIR, split_size)\n",
    "split_data(DOG_SOURCE_DIR, TRAINING_DOGS_DIR, TESTING_DOGS_DIR, split_size)\n"
   ]
  },
  {
   "cell_type": "code",
   "execution_count": 2,
   "id": "3c1167a8-969e-4644-9301-cf137c295933",
   "metadata": {},
   "outputs": [
    {
     "name": "stdout",
     "output_type": "stream",
     "text": [
      "训练集中猫的个数： 11250\n",
      "训练集中狗的个数： 11250\n",
      "测试集中猫的个数： 1250\n",
      "测试集中狗的个数： 1250\n"
     ]
    }
   ],
   "source": [
    "print('训练集中猫的个数：',len(os.listdir('F:google_download/cats-v-dogs/training/cats/')))\n",
    "print('训练集中狗的个数：',len(os.listdir('F:google_download/cats-v-dogs/training/dogs/')))\n",
    "print('测试集中猫的个数：',len(os.listdir('F:google_download/cats-v-dogs/testing/cats/')))\n",
    "print('测试集中狗的个数：',len(os.listdir('F:google_download/cats-v-dogs/testing/dogs/')))\n"
   ]
  },
  {
   "cell_type": "markdown",
   "id": "91169a28-dd85-42bd-ba11-5d0ebe86c87c",
   "metadata": {},
   "source": [
    "## 模型的搭建"
   ]
  },
  {
   "cell_type": "code",
   "execution_count": 3,
   "id": "ab847829-bbe5-4d8f-9a50-be3718b3c022",
   "metadata": {},
   "outputs": [],
   "source": [
    "#使用的lenet-5的结构\n",
    "model = tf.keras.models.Sequential([\n",
    "    tf.keras.layers.Conv2D(16, (3, 3), activation='relu', input_shape=(150, 150, 3)),\n",
    "    tf.keras.layers.MaxPooling2D(2, 2),\n",
    "    tf.keras.layers.Conv2D(32, (3, 3), activation='relu'),\n",
    "    tf.keras.layers.MaxPooling2D(2, 2),\n",
    "    tf.keras.layers.Conv2D(64, (3, 3), activation='relu'),\n",
    "    tf.keras.layers.MaxPooling2D(2, 2),\n",
    "    tf.keras.layers.Flatten(),\n",
    "    tf.keras.layers.Dense(512, activation='relu'),\n",
    "    tf.keras.layers.Dense(1, activation='sigmoid')\n",
    "])\n",
    "\n",
    "model.compile(optimizer=tf.optimizers.RMSprop(lr=0.001), loss='binary_crossentropy', metrics=['acc'])\n"
   ]
  },
  {
   "cell_type": "code",
   "execution_count": 4,
   "id": "a8c147b4-e2b5-4d77-811d-83935b755902",
   "metadata": {},
   "outputs": [
    {
     "name": "stdout",
     "output_type": "stream",
     "text": [
      "Found 22498 images belonging to 2 classes.\n",
      "Found 2500 images belonging to 2 classes.\n"
     ]
    }
   ],
   "source": [
    "#数据的预处理\n",
    "TRAINING_DIR = \"F:google_download/cats-v-dogs/training/\"\n",
    "train_datagen = ImageDataGenerator(rescale=1.0/255.)\n",
    "train_generator = train_datagen.flow_from_directory(TRAINING_DIR,\n",
    "                                                    batch_size=100,\n",
    "                                                    class_mode='binary',\n",
    "                                                    target_size=(150, 150))\n",
    "\n",
    "VALIDATION_DIR = \"F:google_download/cats-v-dogs/testing/\"\n",
    "validation_datagen = ImageDataGenerator(rescale=1.0/255.)\n",
    "validation_generator = validation_datagen.flow_from_directory(VALIDATION_DIR,\n",
    "                                                              batch_size=100,\n",
    "                                                              class_mode='binary',\n",
    "                                                              target_size=(150, 150))\n",
    "\n"
   ]
  },
  {
   "cell_type": "markdown",
   "id": "0d5888c5-adb9-4bbe-a38d-ebf034321b3e",
   "metadata": {},
   "source": [
    "## 模型的训练"
   ]
  },
  {
   "cell_type": "code",
   "execution_count": 5,
   "id": "99ab20e1-24b8-43ee-b7fe-a592d8f265a2",
   "metadata": {
    "scrolled": false
   },
   "outputs": [
    {
     "name": "stdout",
     "output_type": "stream",
     "text": [
      "Epoch 1/20\n"
     ]
    },
    {
     "name": "stderr",
     "output_type": "stream",
     "text": [
      "D:\\Anaconda\\Anaconda\\envs\\mytf_1\\lib\\site-packages\\PIL\\TiffImagePlugin.py:811: UserWarning: Truncated File Read\n",
      "  warnings.warn(str(msg))\n"
     ]
    },
    {
     "name": "stdout",
     "output_type": "stream",
     "text": [
      "225/225 - 87s - loss: 0.6682 - acc: 0.6565 - val_loss: 0.5338 - val_acc: 0.7244\n",
      "Epoch 2/20\n"
     ]
    },
    {
     "name": "stderr",
     "output_type": "stream",
     "text": [
      "D:\\Anaconda\\Anaconda\\envs\\mytf_1\\lib\\site-packages\\PIL\\TiffImagePlugin.py:811: UserWarning: Truncated File Read\n",
      "  warnings.warn(str(msg))\n"
     ]
    },
    {
     "name": "stdout",
     "output_type": "stream",
     "text": [
      "225/225 - 83s - loss: 0.4927 - acc: 0.7582 - val_loss: 0.5004 - val_acc: 0.7564\n",
      "Epoch 3/20\n"
     ]
    },
    {
     "name": "stderr",
     "output_type": "stream",
     "text": [
      "D:\\Anaconda\\Anaconda\\envs\\mytf_1\\lib\\site-packages\\PIL\\TiffImagePlugin.py:811: UserWarning: Truncated File Read\n",
      "  warnings.warn(str(msg))\n"
     ]
    },
    {
     "name": "stdout",
     "output_type": "stream",
     "text": [
      "225/225 - 83s - loss: 0.4264 - acc: 0.8031 - val_loss: 0.4710 - val_acc: 0.7756\n",
      "Epoch 4/20\n"
     ]
    },
    {
     "name": "stderr",
     "output_type": "stream",
     "text": [
      "D:\\Anaconda\\Anaconda\\envs\\mytf_1\\lib\\site-packages\\PIL\\TiffImagePlugin.py:811: UserWarning: Truncated File Read\n",
      "  warnings.warn(str(msg))\n"
     ]
    },
    {
     "name": "stdout",
     "output_type": "stream",
     "text": [
      "225/225 - 83s - loss: 0.3712 - acc: 0.8321 - val_loss: 0.4482 - val_acc: 0.7956\n",
      "Epoch 5/20\n"
     ]
    },
    {
     "name": "stderr",
     "output_type": "stream",
     "text": [
      "D:\\Anaconda\\Anaconda\\envs\\mytf_1\\lib\\site-packages\\PIL\\TiffImagePlugin.py:811: UserWarning: Truncated File Read\n",
      "  warnings.warn(str(msg))\n"
     ]
    },
    {
     "name": "stdout",
     "output_type": "stream",
     "text": [
      "225/225 - 83s - loss: 0.3161 - acc: 0.8603 - val_loss: 0.4343 - val_acc: 0.8024\n",
      "Epoch 6/20\n"
     ]
    },
    {
     "name": "stderr",
     "output_type": "stream",
     "text": [
      "D:\\Anaconda\\Anaconda\\envs\\mytf_1\\lib\\site-packages\\PIL\\TiffImagePlugin.py:811: UserWarning: Truncated File Read\n",
      "  warnings.warn(str(msg))\n",
      "D:\\Anaconda\\Anaconda\\envs\\mytf_1\\lib\\site-packages\\PIL\\TiffImagePlugin.py:811: UserWarning: Truncated File Read\n",
      "  warnings.warn(str(msg))\n"
     ]
    },
    {
     "name": "stdout",
     "output_type": "stream",
     "text": [
      "225/225 - 83s - loss: 0.2567 - acc: 0.8918 - val_loss: 0.4455 - val_acc: 0.8272\n",
      "Epoch 7/20\n",
      "225/225 - 83s - loss: 0.1903 - acc: 0.9224 - val_loss: 0.5204 - val_acc: 0.8208\n",
      "Epoch 8/20\n"
     ]
    },
    {
     "name": "stderr",
     "output_type": "stream",
     "text": [
      "D:\\Anaconda\\Anaconda\\envs\\mytf_1\\lib\\site-packages\\PIL\\TiffImagePlugin.py:811: UserWarning: Truncated File Read\n",
      "  warnings.warn(str(msg))\n"
     ]
    },
    {
     "name": "stdout",
     "output_type": "stream",
     "text": [
      "225/225 - 83s - loss: 0.1366 - acc: 0.9484 - val_loss: 0.5176 - val_acc: 0.8192\n",
      "Epoch 9/20\n"
     ]
    },
    {
     "name": "stderr",
     "output_type": "stream",
     "text": [
      "D:\\Anaconda\\Anaconda\\envs\\mytf_1\\lib\\site-packages\\PIL\\TiffImagePlugin.py:811: UserWarning: Truncated File Read\n",
      "  warnings.warn(str(msg))\n"
     ]
    },
    {
     "name": "stdout",
     "output_type": "stream",
     "text": [
      "225/225 - 84s - loss: 0.0922 - acc: 0.9655 - val_loss: 0.6656 - val_acc: 0.8184\n",
      "Epoch 10/20\n"
     ]
    },
    {
     "name": "stderr",
     "output_type": "stream",
     "text": [
      "D:\\Anaconda\\Anaconda\\envs\\mytf_1\\lib\\site-packages\\PIL\\TiffImagePlugin.py:811: UserWarning: Truncated File Read\n",
      "  warnings.warn(str(msg))\n"
     ]
    },
    {
     "name": "stdout",
     "output_type": "stream",
     "text": [
      "225/225 - 83s - loss: 0.0648 - acc: 0.9780 - val_loss: 0.7330 - val_acc: 0.8096\n",
      "Epoch 11/20\n"
     ]
    },
    {
     "name": "stderr",
     "output_type": "stream",
     "text": [
      "D:\\Anaconda\\Anaconda\\envs\\mytf_1\\lib\\site-packages\\PIL\\TiffImagePlugin.py:811: UserWarning: Truncated File Read\n",
      "  warnings.warn(str(msg))\n"
     ]
    },
    {
     "name": "stdout",
     "output_type": "stream",
     "text": [
      "225/225 - 82s - loss: 0.0628 - acc: 0.9820 - val_loss: 0.9274 - val_acc: 0.8056\n",
      "Epoch 12/20\n"
     ]
    },
    {
     "name": "stderr",
     "output_type": "stream",
     "text": [
      "D:\\Anaconda\\Anaconda\\envs\\mytf_1\\lib\\site-packages\\PIL\\TiffImagePlugin.py:811: UserWarning: Truncated File Read\n",
      "  warnings.warn(str(msg))\n"
     ]
    },
    {
     "name": "stdout",
     "output_type": "stream",
     "text": [
      "225/225 - 83s - loss: 0.0508 - acc: 0.9850 - val_loss: 0.8700 - val_acc: 0.8188\n",
      "Epoch 13/20\n"
     ]
    },
    {
     "name": "stderr",
     "output_type": "stream",
     "text": [
      "D:\\Anaconda\\Anaconda\\envs\\mytf_1\\lib\\site-packages\\PIL\\TiffImagePlugin.py:811: UserWarning: Truncated File Read\n",
      "  warnings.warn(str(msg))\n"
     ]
    },
    {
     "name": "stdout",
     "output_type": "stream",
     "text": [
      "225/225 - 83s - loss: 0.0494 - acc: 0.9862 - val_loss: 0.8948 - val_acc: 0.8228\n",
      "Epoch 14/20\n"
     ]
    },
    {
     "name": "stderr",
     "output_type": "stream",
     "text": [
      "D:\\Anaconda\\Anaconda\\envs\\mytf_1\\lib\\site-packages\\PIL\\TiffImagePlugin.py:811: UserWarning: Truncated File Read\n",
      "  warnings.warn(str(msg))\n"
     ]
    },
    {
     "name": "stdout",
     "output_type": "stream",
     "text": [
      "225/225 - 83s - loss: 0.0536 - acc: 0.9881 - val_loss: 0.9348 - val_acc: 0.7888\n",
      "Epoch 15/20\n"
     ]
    },
    {
     "name": "stderr",
     "output_type": "stream",
     "text": [
      "D:\\Anaconda\\Anaconda\\envs\\mytf_1\\lib\\site-packages\\PIL\\TiffImagePlugin.py:811: UserWarning: Truncated File Read\n",
      "  warnings.warn(str(msg))\n"
     ]
    },
    {
     "name": "stdout",
     "output_type": "stream",
     "text": [
      "225/225 - 84s - loss: 0.0528 - acc: 0.9854 - val_loss: 0.8687 - val_acc: 0.8112\n",
      "Epoch 16/20\n"
     ]
    },
    {
     "name": "stderr",
     "output_type": "stream",
     "text": [
      "D:\\Anaconda\\Anaconda\\envs\\mytf_1\\lib\\site-packages\\PIL\\TiffImagePlugin.py:811: UserWarning: Truncated File Read\n",
      "  warnings.warn(str(msg))\n"
     ]
    },
    {
     "name": "stdout",
     "output_type": "stream",
     "text": [
      "225/225 - 83s - loss: 0.0516 - acc: 0.9880 - val_loss: 1.0568 - val_acc: 0.8132\n",
      "Epoch 17/20\n"
     ]
    },
    {
     "name": "stderr",
     "output_type": "stream",
     "text": [
      "D:\\Anaconda\\Anaconda\\envs\\mytf_1\\lib\\site-packages\\PIL\\TiffImagePlugin.py:811: UserWarning: Truncated File Read\n",
      "  warnings.warn(str(msg))\n"
     ]
    },
    {
     "name": "stdout",
     "output_type": "stream",
     "text": [
      "225/225 - 82s - loss: 0.0439 - acc: 0.9880 - val_loss: 0.7441 - val_acc: 0.7728\n",
      "Epoch 18/20\n"
     ]
    },
    {
     "name": "stderr",
     "output_type": "stream",
     "text": [
      "D:\\Anaconda\\Anaconda\\envs\\mytf_1\\lib\\site-packages\\PIL\\TiffImagePlugin.py:811: UserWarning: Truncated File Read\n",
      "  warnings.warn(str(msg))\n"
     ]
    },
    {
     "name": "stdout",
     "output_type": "stream",
     "text": [
      "225/225 - 82s - loss: 0.0367 - acc: 0.9899 - val_loss: 1.2707 - val_acc: 0.8216\n",
      "Epoch 19/20\n"
     ]
    },
    {
     "name": "stderr",
     "output_type": "stream",
     "text": [
      "D:\\Anaconda\\Anaconda\\envs\\mytf_1\\lib\\site-packages\\PIL\\TiffImagePlugin.py:811: UserWarning: Truncated File Read\n",
      "  warnings.warn(str(msg))\n"
     ]
    },
    {
     "name": "stdout",
     "output_type": "stream",
     "text": [
      "225/225 - 84s - loss: 0.0511 - acc: 0.9872 - val_loss: 1.1957 - val_acc: 0.8208\n",
      "Epoch 20/20\n"
     ]
    },
    {
     "name": "stderr",
     "output_type": "stream",
     "text": [
      "D:\\Anaconda\\Anaconda\\envs\\mytf_1\\lib\\site-packages\\PIL\\TiffImagePlugin.py:811: UserWarning: Truncated File Read\n",
      "  warnings.warn(str(msg))\n"
     ]
    },
    {
     "name": "stdout",
     "output_type": "stream",
     "text": [
      "225/225 - 83s - loss: 0.0453 - acc: 0.9883 - val_loss: 1.0126 - val_acc: 0.7992\n"
     ]
    }
   ],
   "source": [
    "history = model.fit_generator(train_generator,\n",
    "                              epochs=20,\n",
    "                              verbose=2,\n",
    "                              validation_data=validation_generator)"
   ]
  },
  {
   "cell_type": "markdown",
   "id": "19e7a632-6827-426f-b87f-f59e141c846d",
   "metadata": {},
   "source": [
    "## 结果的输出"
   ]
  },
  {
   "cell_type": "code",
   "execution_count": 6,
   "id": "01660011-36db-45f9-b3eb-13d1a17bf664",
   "metadata": {},
   "outputs": [
    {
     "data": {
      "text/plain": [
       "<Figure size 432x288 with 0 Axes>"
      ]
     },
     "execution_count": 6,
     "metadata": {},
     "output_type": "execute_result"
    },
    {
     "data": {
      "image/png": "[encoded data removed]",
      "text/plain": [
       "<Figure size 432x288 with 1 Axes>"
      ]
     },
     "metadata": {
      "needs_background": "light"
     },
     "output_type": "display_data"
    },
    {
     "data": {
      "image/png": "[encoded data removed]",
      "text/plain": [
       "<Figure size 432x288 with 1 Axes>"
      ]
     },
     "metadata": {
      "needs_background": "light"
     },
     "output_type": "display_data"
    },
    {
     "data": {
      "text/plain": [
       "<Figure size 432x288 with 0 Axes>"
      ]
     },
     "metadata": {},
     "output_type": "display_data"
    }
   ],
   "source": [
    "#画出训练过程中的训练集和测试集的loss以及acc曲线（横坐标为epochs）\n",
    "%matplotlib inline\n",
    "\n",
    "import matplotlib.image  as mpimg\n",
    "import matplotlib.pyplot as plt\n",
    "\n",
    "\n",
    "acc=history.history['acc']\n",
    "val_acc=history.history['val_acc']\n",
    "loss=history.history['loss']\n",
    "val_loss=history.history['val_loss']\n",
    "\n",
    "epochs=range(len(acc)) # Get number of epochs\n",
    "\n",
    "plt.plot(epochs, acc, 'r', \"Training Accuracy\")\n",
    "plt.plot(epochs, val_acc, 'b', \"Validation Accuracy\")\n",
    "plt.title('Training and validation accuracy')\n",
    "plt.figure()\n",
    "\n",
    "\n",
    "plt.plot(epochs, loss, 'r', \"Training Loss\")\n",
    "plt.plot(epochs, val_loss, 'b', \"Validation Loss\")\n",
    "plt.figure()\n"
   ]
  },
  {
   "cell_type": "markdown",
   "id": "6730dfd4-81ec-4658-a35e-b7e0a266caf7",
   "metadata": {},
   "source": [
    "## 模型的预测使用"
   ]
  },
  {
   "cell_type": "code",
   "execution_count": null,
   "id": "d6669890-65ef-46e4-be2f-c71cecc3622c",
   "metadata": {},
   "outputs": [],
   "source": [
    "# 没有测试集，所以只是一个简单的代码\n",
    "import numpy as np\n",
    "from google.colab import files\n",
    "from keras.preprocessing import image\n",
    "\n",
    "uploaded = files.upload()\n",
    "\n",
    "for fn in uploaded.keys():\n",
    " \n",
    "  # predicting images\n",
    "  path = '/content/' + fn\n",
    "  img = image.load_img(path, target_size=(150, 150))\n",
    "  x = image.img_to_array(img)\n",
    "  x = np.expand_dims(x, axis=0)\n",
    "\n",
    "  images = np.vstack([x])\n",
    "  classes = model.predict(images, batch_size=10)\n",
    "  print(classes[0])\n",
    "  if classes[0]>0.5:\n",
    "    print(fn + \" is a dog\")\n",
    "  else:\n",
    "    print(fn + \" is a cat\")"
   ]
  }
 ],
 "metadata": {
  "kernelspec": {
   "display_name": "Python 3",
   "language": "python",
   "name": "python3"
  },
  "language_info": {
   "codemirror_mode": {
    "name": "ipython",
    "version": 3
   },
   "file_extension": ".py",
   "mimetype": "text/x-python",
   "name": "python",
   "nbconvert_exporter": "python",
   "pygments_lexer": "ipython3",
   "version": "3.6.13"
  }
 },
 "nbformat": 4,
 "nbformat_minor": 5
}
